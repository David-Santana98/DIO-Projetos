{
  "nbformat": 4,
  "nbformat_minor": 0,
  "metadata": {
    "colab": {
      "provenance": [],
      "authorship_tag": "ABX9TyOCxuq+t6wlf2i7ndibuFjH",
      "include_colab_link": true
    },
    "kernelspec": {
      "name": "python3",
      "display_name": "Python 3"
    },
    "language_info": {
      "name": "python"
    }
  },
  "cells": [
    {
      "cell_type": "markdown",
      "metadata": {
        "id": "view-in-github",
        "colab_type": "text"
      },
      "source": [
        "<a href=\"https://colab.research.google.com/github/dvs98dev/DIO-Projetos/blob/main/Estruturas_de_dados.ipynb\" target=\"_parent\"><img src=\"https://colab.research.google.com/assets/colab-badge.svg\" alt=\"Open In Colab\"/></a>"
      ]
    },
    {
      "cell_type": "markdown",
      "source": [
        "## **LISTAS**"
      ],
      "metadata": {
        "id": "pXqV8TZuu8AK"
      }
    },
    {
      "cell_type": "code",
      "execution_count": null,
      "metadata": {
        "colab": {
          "base_uri": "https://localhost:8080/"
        },
        "id": "iFb-mDVOnNZ9",
        "outputId": "b61d965b-b5aa-4612-a48c-45570af4eac9"
      },
      "outputs": [
        {
          "output_type": "execute_result",
          "data": {
            "text/plain": [
              "[1, 2, 3]"
            ]
          },
          "metadata": {},
          "execution_count": 51
        }
      ],
      "source": [
        "#Criando uma lista chamada animais \n",
        "animais = [ 1,2,3]\n",
        "animais"
      ]
    },
    {
      "cell_type": "code",
      "source": [
        "animais = [\"cachorro\", \"gato\", 12345, 6.5]\n",
        "animais"
      ],
      "metadata": {
        "colab": {
          "base_uri": "https://localhost:8080/"
        },
        "id": "pGlsz9GcoRlz",
        "outputId": "ee0f32bc-9b25-4a02-9092-7a573713b466"
      },
      "execution_count": null,
      "outputs": [
        {
          "output_type": "execute_result",
          "data": {
            "text/plain": [
              "['cachorro', 'gato', 12345, 6.5]"
            ]
          },
          "metadata": {},
          "execution_count": 52
        }
      ]
    },
    {
      "cell_type": "code",
      "source": [
        "#imprimindo o primeiro elemento da lista\n",
        "animais[0]"
      ],
      "metadata": {
        "colab": {
          "base_uri": "https://localhost:8080/",
          "height": 35
        },
        "id": "jPY7ZWlPoiUr",
        "outputId": "082fff50-561c-44f6-f637-f142d08acc57"
      },
      "execution_count": null,
      "outputs": [
        {
          "output_type": "execute_result",
          "data": {
            "text/plain": [
              "'cachorro'"
            ],
            "application/vnd.google.colaboratory.intrinsic+json": {
              "type": "string"
            }
          },
          "metadata": {},
          "execution_count": 53
        }
      ]
    },
    {
      "cell_type": "code",
      "source": [
        "#imprimindo o 4 elemento da lista\n",
        "animais[3]"
      ],
      "metadata": {
        "colab": {
          "base_uri": "https://localhost:8080/"
        },
        "id": "CFg3swoWovQI",
        "outputId": "13e413ff-a188-4126-8584-a6ac3545e214"
      },
      "execution_count": null,
      "outputs": [
        {
          "output_type": "execute_result",
          "data": {
            "text/plain": [
              "6.5"
            ]
          },
          "metadata": {},
          "execution_count": 54
        }
      ]
    },
    {
      "cell_type": "code",
      "source": [
        "#susbtituindo o primeiro elemento da lista \n",
        "animais[0] = \"papagaio\"\n",
        "animais"
      ],
      "metadata": {
        "colab": {
          "base_uri": "https://localhost:8080/"
        },
        "id": "ohTY3VhLo3uu",
        "outputId": "37080808-d3b9-49ce-d46f-7fa7eb6e2be7"
      },
      "execution_count": null,
      "outputs": [
        {
          "output_type": "execute_result",
          "data": {
            "text/plain": [
              "['papagaio', 'gato', 12345, 6.5]"
            ]
          },
          "metadata": {},
          "execution_count": 55
        }
      ]
    },
    {
      "cell_type": "code",
      "source": [
        "#Removendo gato da lista\n",
        "animais.remove(\"gato\")\n",
        "animais"
      ],
      "metadata": {
        "colab": {
          "base_uri": "https://localhost:8080/"
        },
        "id": "hBDgYX7fqo1g",
        "outputId": "c0fa8d0f-26c5-4177-a534-0f40c35cc772"
      },
      "execution_count": null,
      "outputs": [
        {
          "output_type": "execute_result",
          "data": {
            "text/plain": [
              "['papagaio', 12345, 6.5]"
            ]
          },
          "metadata": {},
          "execution_count": 56
        }
      ]
    },
    {
      "cell_type": "code",
      "source": [
        "#Saber o tamanho da lista \n",
        "len(animais)"
      ],
      "metadata": {
        "colab": {
          "base_uri": "https://localhost:8080/"
        },
        "id": "wCyT9dAtq6EQ",
        "outputId": "be8f8d73-4181-455d-e735-c0ae1c53e30f"
      },
      "execution_count": null,
      "outputs": [
        {
          "output_type": "execute_result",
          "data": {
            "text/plain": [
              "3"
            ]
          },
          "metadata": {},
          "execution_count": 57
        }
      ]
    },
    {
      "cell_type": "code",
      "source": [
        "#saber se um elemento pertence a lista \n",
        "\"gato\" in animais"
      ],
      "metadata": {
        "colab": {
          "base_uri": "https://localhost:8080/"
        },
        "id": "Fc9YiCORrCFe",
        "outputId": "9304098c-cbc4-4ab7-a2b7-38dfb8e95d8a"
      },
      "execution_count": null,
      "outputs": [
        {
          "output_type": "execute_result",
          "data": {
            "text/plain": [
              "False"
            ]
          },
          "metadata": {},
          "execution_count": 58
        }
      ]
    },
    {
      "cell_type": "code",
      "source": [
        "#criando uma lista numérica \n",
        "lista = [500, 30, 300, 80, 10]"
      ],
      "metadata": {
        "id": "pGDC_GoVrP5y"
      },
      "execution_count": null,
      "outputs": []
    },
    {
      "cell_type": "code",
      "source": [
        "#qual é o maior valor na lista\n",
        "max(lista)"
      ],
      "metadata": {
        "colab": {
          "base_uri": "https://localhost:8080/"
        },
        "id": "mG5Fv39Nr4_k",
        "outputId": "6f5f0bc3-cafe-4301-c165-b6066a9f863b"
      },
      "execution_count": null,
      "outputs": [
        {
          "output_type": "execute_result",
          "data": {
            "text/plain": [
              "500"
            ]
          },
          "metadata": {},
          "execution_count": 60
        }
      ]
    },
    {
      "cell_type": "code",
      "source": [
        "#menor valor da lista \n",
        "min(lista)"
      ],
      "metadata": {
        "colab": {
          "base_uri": "https://localhost:8080/"
        },
        "id": "hUnorR6IsBE3",
        "outputId": "c7e40e56-4e40-4366-82ec-ef009a7c792f"
      },
      "execution_count": null,
      "outputs": [
        {
          "output_type": "execute_result",
          "data": {
            "text/plain": [
              "10"
            ]
          },
          "metadata": {},
          "execution_count": 61
        }
      ]
    },
    {
      "cell_type": "code",
      "source": [
        "#aceita somente 1 argumento\n",
        "animais.append(\"leão\")\n",
        "animais"
      ],
      "metadata": {
        "colab": {
          "base_uri": "https://localhost:8080/"
        },
        "id": "CKXqjjAGsFzl",
        "outputId": "80c7a260-2116-45a9-ccff-27f4385a2a35"
      },
      "execution_count": null,
      "outputs": [
        {
          "output_type": "execute_result",
          "data": {
            "text/plain": [
              "['papagaio', 12345, 6.5, 'leão']"
            ]
          },
          "metadata": {},
          "execution_count": 62
        }
      ]
    },
    {
      "cell_type": "code",
      "source": [
        "#adiciona mais que 1 argumento a lista \n",
        "animais.extend([\"cobra\", 6])\n"
      ],
      "metadata": {
        "id": "V9K4DB_QsNCm"
      },
      "execution_count": null,
      "outputs": []
    },
    {
      "cell_type": "code",
      "source": [
        "animais"
      ],
      "metadata": {
        "colab": {
          "base_uri": "https://localhost:8080/"
        },
        "id": "pTtHWIXysbEa",
        "outputId": "513e8965-3014-40d4-8878-0871d5aae993"
      },
      "execution_count": null,
      "outputs": [
        {
          "output_type": "execute_result",
          "data": {
            "text/plain": [
              "['papagaio', 12345, 6.5, 'leão', 'cobra', 6]"
            ]
          },
          "metadata": {},
          "execution_count": 64
        }
      ]
    },
    {
      "cell_type": "code",
      "source": [
        "#quantas vezes aparece determinado valor na lista \n",
        "animais.count(\"leão\")"
      ],
      "metadata": {
        "colab": {
          "base_uri": "https://localhost:8080/"
        },
        "id": "WinvTe55t0Wr",
        "outputId": "4f4ec3ae-65ed-4699-ee6c-7028b047e801"
      },
      "execution_count": null,
      "outputs": [
        {
          "output_type": "execute_result",
          "data": {
            "text/plain": [
              "1"
            ]
          },
          "metadata": {},
          "execution_count": 65
        }
      ]
    },
    {
      "cell_type": "code",
      "source": [
        "#ordernar a lista do menor para o maior\n",
        "lista.sort()\n",
        "lista"
      ],
      "metadata": {
        "colab": {
          "base_uri": "https://localhost:8080/"
        },
        "id": "kIK9MY2xuZjH",
        "outputId": "37b29458-5160-48c5-97f0-b69d12762192"
      },
      "execution_count": null,
      "outputs": [
        {
          "output_type": "execute_result",
          "data": {
            "text/plain": [
              "[10, 30, 80, 300, 500]"
            ]
          },
          "metadata": {},
          "execution_count": 66
        }
      ]
    },
    {
      "cell_type": "markdown",
      "source": [
        "## **TUPLAS**"
      ],
      "metadata": {
        "id": "pRX3nzT6wG15"
      }
    },
    {
      "cell_type": "code",
      "source": [
        "#As tuplas usam parênteses como síntaxe\n",
        "tp = (\"Banana\", \"Maçã\", 10, 50)"
      ],
      "metadata": {
        "id": "eXm61ZvAwN4a"
      },
      "execution_count": null,
      "outputs": []
    },
    {
      "cell_type": "code",
      "source": [
        "#Retornando o primeiro elemento\n",
        "tp[0]"
      ],
      "metadata": {
        "colab": {
          "base_uri": "https://localhost:8080/",
          "height": 35
        },
        "id": "hRiCjfaD2SAN",
        "outputId": "ad1ce5c6-3a3d-4973-912d-0e831e173f78"
      },
      "execution_count": null,
      "outputs": [
        {
          "output_type": "execute_result",
          "data": {
            "text/plain": [
              "'Banana'"
            ],
            "application/vnd.google.colaboratory.intrinsic+json": {
              "type": "string"
            }
          },
          "metadata": {},
          "execution_count": 68
        }
      ]
    },
    {
      "cell_type": "code",
      "source": [
        "#Diferente das listas as tuplas são imutáveis, o que quer dizer que não\n",
        "#podemos alterar os seus elementos\n",
        "# tp[0] = \"Laranja\""
      ],
      "metadata": {
        "id": "5AQwt38u2ZWt"
      },
      "execution_count": null,
      "outputs": []
    },
    {
      "cell_type": "code",
      "source": [
        "tp.count(\"Maçã\")"
      ],
      "metadata": {
        "colab": {
          "base_uri": "https://localhost:8080/"
        },
        "id": "fsxMbgiv2zxx",
        "outputId": "a19d84f3-4fc8-4a87-d277-187a3152dd96"
      },
      "execution_count": null,
      "outputs": [
        {
          "output_type": "execute_result",
          "data": {
            "text/plain": [
              "1"
            ]
          },
          "metadata": {},
          "execution_count": 73
        }
      ]
    },
    {
      "cell_type": "code",
      "source": [
        "tp[0:3]"
      ],
      "metadata": {
        "colab": {
          "base_uri": "https://localhost:8080/"
        },
        "id": "zoSZYhTP3HB-",
        "outputId": "adcdc084-4a41-4cc1-f1b5-292ddb8e7155"
      },
      "execution_count": null,
      "outputs": [
        {
          "output_type": "execute_result",
          "data": {
            "text/plain": [
              "('Banana', 'Maçã', 10)"
            ]
          },
          "metadata": {},
          "execution_count": 75
        }
      ]
    },
    {
      "cell_type": "markdown",
      "source": [
        "## **DICIONÁRIOS**"
      ],
      "metadata": {
        "id": "Nd0v3kUW4zum"
      }
    },
    {
      "cell_type": "code",
      "source": [
        "#Para criar dicionário utilizamos as {}\n",
        "dc = {\"Maçã\":20,\"Banana\":10, \"Laranja\":15, \"Uva\":5 } \n",
        "#conceito chave e valor"
      ],
      "metadata": {
        "id": "vDLf18KS43UG"
      },
      "execution_count": null,
      "outputs": []
    },
    {
      "cell_type": "code",
      "source": [
        "dc"
      ],
      "metadata": {
        "colab": {
          "base_uri": "https://localhost:8080/"
        },
        "id": "tKTaX8UB563w",
        "outputId": "5476e7f4-0949-48e1-d234-bed541e4ae39"
      },
      "execution_count": null,
      "outputs": [
        {
          "output_type": "execute_result",
          "data": {
            "text/plain": [
              "{'Maçã': 20, 'Banana': 10, 'Laranja': 15, 'Uva': 5}"
            ]
          },
          "metadata": {},
          "execution_count": 77
        }
      ]
    },
    {
      "cell_type": "code",
      "source": [
        "#Acessando o valor de um dicionário através da chave\n",
        "dc[\"Maçã\"]"
      ],
      "metadata": {
        "colab": {
          "base_uri": "https://localhost:8080/"
        },
        "id": "tkotA5aG57vh",
        "outputId": "93eff944-f065-478a-d213-10604840a4a2"
      },
      "execution_count": null,
      "outputs": [
        {
          "output_type": "execute_result",
          "data": {
            "text/plain": [
              "20"
            ]
          },
          "metadata": {},
          "execution_count": 78
        }
      ]
    },
    {
      "cell_type": "code",
      "source": [
        "#Atualizando o valor da Maçã\n",
        "dc[\"Maçã\"] = 25\n",
        "dc"
      ],
      "metadata": {
        "colab": {
          "base_uri": "https://localhost:8080/"
        },
        "id": "5y-ikG4e6I_i",
        "outputId": "af36b234-be4f-45c1-a8c7-81b7927363d4"
      },
      "execution_count": null,
      "outputs": [
        {
          "output_type": "execute_result",
          "data": {
            "text/plain": [
              "{'Maçã': 25, 'Banana': 10, 'Laranja': 15, 'Uva': 5}"
            ]
          },
          "metadata": {},
          "execution_count": 81
        }
      ]
    },
    {
      "cell_type": "code",
      "source": [
        "#Retornando todas as chaves do dicionário\n",
        "dc.keys()"
      ],
      "metadata": {
        "colab": {
          "base_uri": "https://localhost:8080/"
        },
        "id": "wl-yTxdb6lTD",
        "outputId": "d161c3a9-03c5-4c78-d037-fa35a3d8ebec"
      },
      "execution_count": null,
      "outputs": [
        {
          "output_type": "execute_result",
          "data": {
            "text/plain": [
              "dict_keys(['Maçã', 'Banana', 'Laranja', 'Uva'])"
            ]
          },
          "metadata": {},
          "execution_count": 82
        }
      ]
    },
    {
      "cell_type": "code",
      "source": [
        "#Retornando valores do dicionário\n",
        "dc.values()"
      ],
      "metadata": {
        "colab": {
          "base_uri": "https://localhost:8080/"
        },
        "id": "qRuPlD896z0e",
        "outputId": "18d5acc6-c94f-44c2-ad69-abec4545dbb1"
      },
      "execution_count": null,
      "outputs": [
        {
          "output_type": "execute_result",
          "data": {
            "text/plain": [
              "dict_values([25, 10, 15, 5])"
            ]
          },
          "metadata": {},
          "execution_count": 83
        }
      ]
    },
    {
      "cell_type": "code",
      "source": [
        "#Verificando se já existe uma chave \n",
        "# no dicionário e caso não exista inserir\n",
        "dc.setdefault(\"Limão\", 22)"
      ],
      "metadata": {
        "colab": {
          "base_uri": "https://localhost:8080/"
        },
        "id": "6u8BXGX-6-La",
        "outputId": "68166170-68a5-4736-f6a2-32a923f09284"
      },
      "execution_count": null,
      "outputs": [
        {
          "output_type": "execute_result",
          "data": {
            "text/plain": [
              "22"
            ]
          },
          "metadata": {},
          "execution_count": 86
        }
      ]
    },
    {
      "cell_type": "code",
      "source": [
        "dc"
      ],
      "metadata": {
        "colab": {
          "base_uri": "https://localhost:8080/"
        },
        "id": "GJfDDnsS7YSG",
        "outputId": "22da0793-f0f6-4f98-fdb0-39aaa1a8ccaa"
      },
      "execution_count": null,
      "outputs": [
        {
          "output_type": "execute_result",
          "data": {
            "text/plain": [
              "{'Maçã': 25, 'Banana': 10, 'Laranja': 15, 'Uva': 5, 'Limão': 22}"
            ]
          },
          "metadata": {},
          "execution_count": 87
        }
      ]
    },
    {
      "cell_type": "code",
      "source": [],
      "metadata": {
        "id": "Ob1I_Brs7cTJ"
      },
      "execution_count": null,
      "outputs": []
    }
  ]
}